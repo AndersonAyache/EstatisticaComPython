{
 "cells": [
  {
   "cell_type": "markdown",
   "metadata": {},
   "source": [
    "# Estatística com Python\n",
    "<p style=\"text-align:justify\">\n",
    "A estatística é uma área da matemática frequentemente vista como complexa e até controversa, mas é essencial no mundo moderno. Afinal, quem hoje em dia não ouviu falar do ChatGPT ou de inteligência artificial? Esses novos modelos de linguagem computacional são construídos com base em modelos estatísticos amplamente estudados e testados. Além disso, empresas utilizam a estatística para tomar decisões, como em pesquisas de mercado ou análises de vendas de determinados produtos. Outros exemplo são as pesquisas eleitorais, realizadas antes de cada eleição, e o Censo, conduzido nos países para entender o comportamento de sua população. Todos esses exemplos destacam a importância da estatística no cenário atual.\n",
    "</p>"
   ]
  },
  {
   "cell_type": "markdown",
   "metadata": {},
   "source": [
    "## Então, por onde começar?"
   ]
  },
  {
   "cell_type": "markdown",
   "metadata": {},
   "source": [
    "<p style=\"text-align:justify\">\n",
    "A primeira coisa a se entender na estatística é que existe uma ordem a se seguida para uma estudo estatístico, o primeiro passo é fazer o planejamento do estudo, isso requer escolher as perguntas certas a serem feitas ao publico alvo do estudo. Como o objetivo aqui é entender os conceitos das análises estatística, vamos usar um estudo estatístico já pronto, no livro o de \"Practical Data Analysis: Case Studies in Business Statistics\" de Bryant, P. G. e Smith, M (1995), eles apresentam conjunto de dados muito conhecido pelos cientistas de dados, um estudo feito por um garçom muito dedicado, no qual passou a anotar todas as gorjetas recebida por ele durante um período, sendo assim iremos trabalhar com o conjunto estatístico, \"tips\" ou \"gorjetas\", em português.\n",
    "</p>\n",
    "\n",
    "<p style=\"text-align:justify\">\n",
    "Os dados podem ser encontrados no site do <a href=\"https://www.kaggle.com/datasets/jsphyg/tipping\">Kaggle - A Waiter's Tips</a>, aqui podemos encontra o DataFrame em que iremos trabalhar. DataFrame é uma formula tabular de representação dos dados coletados, veremos mais a seguir como é uma DataFrame.\n",
    "</p>\n",
    "\n",
    "<p style=\"text-align:justify\">\n",
    "Além disso vale lembrar que iremos usar a linguagem de programação, Python. Esta incrível linguagem, através de suas enumeras bibliotecas, nos ajudam não somente em uma análise estatística como em muitas tarefas de nosso dia a dia. Porém para este estudo nos usaremos biblioteca duas bibliotecas essenciais para quem eq estuda estatística, a biblioteca <a href=\"https://numpy.org/\">Numpy</a>, que vai nos ajudar com todas as contas estatísticas, e a biblioteca <a href=\"https://pandas.pydata.org/\">Pandas</a> que vai nos ajudara com as contas estatísticas mas também com as visualização dos dados que foram baixados.  pode nos ajudar em muitas tarefas de nosso dia a dia, com automatização de serviços, ou para nosso caso em uma analise estatística. Você precisa já ter instalado o Python em seu PC pois aqui iremos usar uma de suas enumeras bibliotecas o .\n",
    "</p>"
   ]
  },
  {
   "cell_type": "markdown",
   "metadata": {},
   "source": [
    "## Visualizando os dados"
   ]
  },
  {
   "cell_type": "markdown",
   "metadata": {},
   "source": [
    "<p style=\"text-align:justify\">\n",
    "Logo após baixar os dados é possível ver que estes dados estão em um arquivo <code>.zip</code> e quando extraído vemos um arquivo com uma nova extensão <code>.csv</code>. \n",
    "</p>\n",
    "<br>\n",
    "\n",
    "<div align=\"center\">\n",
    "    <img width=\"1050px\" src=\"image\\pasta_dados.png\">\n",
    "</div>\n",
    "\n",
    "<br>\n",
    "\n",
    "<p style=\"text-align:justify\">\n",
    "Esta extensão que é chamade de <i>Comma-separated values</i>, que significa que seus valores são armazenados de tal forma que eles ficam separados por virgula. Como mencionado anteriormente vamos usar a biblioteca do Python chamada <code>Pandas</code>.\n",
    "</p>\n",
    "\n",
    "<p style=\"text-align:justify\">\n",
    "Para instalar esta biblioteca basta digitar no seu ambiente virtual:\n",
    "</p>\n",
    "\n",
    ">```python\n",
    ">pip install pandas\n",
    ">```"
   ]
  },
  {
   "cell_type": "markdown",
   "metadata": {},
   "source": [
    "<p style=\"text-align:justify\">\n",
    "    Agora com a biblioteca instalada podemos finalmente dá nossa primeira olhada nos dados, mas para isso é primeiro preciso importar esta biblioteca, e para isso basta digitar o seguinte comando: \n",
    "</p>"
   ]
  },
  {
   "cell_type": "code",
   "execution_count": 1,
   "metadata": {},
   "outputs": [],
   "source": [
    "import pandas as pd"
   ]
  },
  {
   "cell_type": "markdown",
   "metadata": {},
   "source": [
    "<p style=\"text-align:justify\">\n",
    "    Pronto agora já temos a biblioteca instalada, sendo assim podemos atribuir a uma variável os dados que baixamos com a extensão <code>.csv</code>\n",
    "</p>"
   ]
  },
  {
   "cell_type": "code",
   "execution_count": 2,
   "metadata": {},
   "outputs": [
    {
     "data": {
      "text/html": [
       "<div>\n",
       "<style scoped>\n",
       "    .dataframe tbody tr th:only-of-type {\n",
       "        vertical-align: middle;\n",
       "    }\n",
       "\n",
       "    .dataframe tbody tr th {\n",
       "        vertical-align: top;\n",
       "    }\n",
       "\n",
       "    .dataframe thead th {\n",
       "        text-align: right;\n",
       "    }\n",
       "</style>\n",
       "<table border=\"1\" class=\"dataframe\">\n",
       "  <thead>\n",
       "    <tr style=\"text-align: right;\">\n",
       "      <th></th>\n",
       "      <th>total_bill</th>\n",
       "      <th>tip</th>\n",
       "      <th>sex</th>\n",
       "      <th>smoker</th>\n",
       "      <th>day</th>\n",
       "      <th>time</th>\n",
       "      <th>size</th>\n",
       "    </tr>\n",
       "  </thead>\n",
       "  <tbody>\n",
       "    <tr>\n",
       "      <th>0</th>\n",
       "      <td>16.99</td>\n",
       "      <td>1.01</td>\n",
       "      <td>Female</td>\n",
       "      <td>No</td>\n",
       "      <td>Sun</td>\n",
       "      <td>Dinner</td>\n",
       "      <td>2</td>\n",
       "    </tr>\n",
       "    <tr>\n",
       "      <th>1</th>\n",
       "      <td>10.34</td>\n",
       "      <td>1.66</td>\n",
       "      <td>Male</td>\n",
       "      <td>No</td>\n",
       "      <td>Sun</td>\n",
       "      <td>Dinner</td>\n",
       "      <td>3</td>\n",
       "    </tr>\n",
       "    <tr>\n",
       "      <th>2</th>\n",
       "      <td>21.01</td>\n",
       "      <td>3.50</td>\n",
       "      <td>Male</td>\n",
       "      <td>No</td>\n",
       "      <td>Sun</td>\n",
       "      <td>Dinner</td>\n",
       "      <td>3</td>\n",
       "    </tr>\n",
       "    <tr>\n",
       "      <th>3</th>\n",
       "      <td>23.68</td>\n",
       "      <td>3.31</td>\n",
       "      <td>Male</td>\n",
       "      <td>No</td>\n",
       "      <td>Sun</td>\n",
       "      <td>Dinner</td>\n",
       "      <td>2</td>\n",
       "    </tr>\n",
       "    <tr>\n",
       "      <th>4</th>\n",
       "      <td>24.59</td>\n",
       "      <td>3.61</td>\n",
       "      <td>Female</td>\n",
       "      <td>No</td>\n",
       "      <td>Sun</td>\n",
       "      <td>Dinner</td>\n",
       "      <td>4</td>\n",
       "    </tr>\n",
       "    <tr>\n",
       "      <th>...</th>\n",
       "      <td>...</td>\n",
       "      <td>...</td>\n",
       "      <td>...</td>\n",
       "      <td>...</td>\n",
       "      <td>...</td>\n",
       "      <td>...</td>\n",
       "      <td>...</td>\n",
       "    </tr>\n",
       "    <tr>\n",
       "      <th>239</th>\n",
       "      <td>29.03</td>\n",
       "      <td>5.92</td>\n",
       "      <td>Male</td>\n",
       "      <td>No</td>\n",
       "      <td>Sat</td>\n",
       "      <td>Dinner</td>\n",
       "      <td>3</td>\n",
       "    </tr>\n",
       "    <tr>\n",
       "      <th>240</th>\n",
       "      <td>27.18</td>\n",
       "      <td>2.00</td>\n",
       "      <td>Female</td>\n",
       "      <td>Yes</td>\n",
       "      <td>Sat</td>\n",
       "      <td>Dinner</td>\n",
       "      <td>2</td>\n",
       "    </tr>\n",
       "    <tr>\n",
       "      <th>241</th>\n",
       "      <td>22.67</td>\n",
       "      <td>2.00</td>\n",
       "      <td>Male</td>\n",
       "      <td>Yes</td>\n",
       "      <td>Sat</td>\n",
       "      <td>Dinner</td>\n",
       "      <td>2</td>\n",
       "    </tr>\n",
       "    <tr>\n",
       "      <th>242</th>\n",
       "      <td>17.82</td>\n",
       "      <td>1.75</td>\n",
       "      <td>Male</td>\n",
       "      <td>No</td>\n",
       "      <td>Sat</td>\n",
       "      <td>Dinner</td>\n",
       "      <td>2</td>\n",
       "    </tr>\n",
       "    <tr>\n",
       "      <th>243</th>\n",
       "      <td>18.78</td>\n",
       "      <td>3.00</td>\n",
       "      <td>Female</td>\n",
       "      <td>No</td>\n",
       "      <td>Thur</td>\n",
       "      <td>Dinner</td>\n",
       "      <td>2</td>\n",
       "    </tr>\n",
       "  </tbody>\n",
       "</table>\n",
       "<p>244 rows × 7 columns</p>\n",
       "</div>"
      ],
      "text/plain": [
       "     total_bill   tip     sex smoker   day    time  size\n",
       "0         16.99  1.01  Female     No   Sun  Dinner     2\n",
       "1         10.34  1.66    Male     No   Sun  Dinner     3\n",
       "2         21.01  3.50    Male     No   Sun  Dinner     3\n",
       "3         23.68  3.31    Male     No   Sun  Dinner     2\n",
       "4         24.59  3.61  Female     No   Sun  Dinner     4\n",
       "..          ...   ...     ...    ...   ...     ...   ...\n",
       "239       29.03  5.92    Male     No   Sat  Dinner     3\n",
       "240       27.18  2.00  Female    Yes   Sat  Dinner     2\n",
       "241       22.67  2.00    Male    Yes   Sat  Dinner     2\n",
       "242       17.82  1.75    Male     No   Sat  Dinner     2\n",
       "243       18.78  3.00  Female     No  Thur  Dinner     2\n",
       "\n",
       "[244 rows x 7 columns]"
      ]
     },
     "execution_count": 2,
     "metadata": {},
     "output_type": "execute_result"
    }
   ],
   "source": [
    "gorjetas = pd.read_csv('dados/tips.csv')\n",
    "gorjetas"
   ]
  },
  {
   "cell_type": "markdown",
   "metadata": {},
   "source": [
    "<p style=\"text-align: justify\">\n",
    "    Neste primeiro contato com os dados é possível ver como os dados estão dispostos em um tabela, por isso a disposição tabular, ou seja, o DataFrame.\n",
    "</p>\n",
    "<p style=\"text-align: justify\">\n",
    "    Podemos ver que cada linha representa um registro feito pela garçom, quanto que cada coluna representa uma informações sobre estes registos. Estas colunas são chamadas de variáveis estatísticas e pode ser classificada de duas maneiras diferentes, como podemos ver a seguir.\n",
    "</p>"
   ]
  },
  {
   "cell_type": "markdown",
   "metadata": {},
   "source": [
    "### Variáveis estatísticas"
   ]
  },
  {
   "cell_type": "markdown",
   "metadata": {},
   "source": [
    "<p style=\"text-align:justify\">\n",
    "As variáveis estatísticas são classificadas pela natureza que ela representa, sendo assim as variáveis pode ser <b>Quantitativas</b> ou <b>Qualitativa</b>.\n",
    "</p>"
   ]
  },
  {
   "cell_type": "markdown",
   "metadata": {},
   "source": [
    "#### Variáveis Quantitativas"
   ]
  },
  {
   "cell_type": "markdown",
   "metadata": {},
   "source": [
    "<p style=\"text-align:justify\">\n",
    "    As variáveis quantitativas são todas as variáveis que a gente pode mensurar, ou seja, que se pode contar, porém existem dois tipos de variáveis quantitativas:\n",
    "    <ul style=\"list-style-type:disc\">\n",
    "        <li><b>Discretas</b>: são variáveis que assumem apenas valores inteiros, que são limitadas ou finitas, por exemplo:\n",
    "            <ul style=\"list-style-type:circle\">\n",
    "                <li>Quantidade de pessoas em uma sala</li>\n",
    "                <li>Quantidade de filhos</li>\n",
    "                <li>Quantidade de acertos em uma prova</li>\n",
    "                <li>Número de votos</li>\n",
    "            </ul>\n",
    "        </li>\n",
    "        <li><b>Continuas</b>: são variáveis que pode assumir um número infinito de valores dentro de um intervalo, por exemplo:\n",
    "            <ul style=\"list-style-type:circle\">\n",
    "                <li>A altura de uma pessoa</li>\n",
    "                <li>O peso de uma pessoa</li>\n",
    "                <li>A temperatura de um ambiente</li>\n",
    "                <li>O volume de um recipiente</li>\n",
    "            </ul>\n",
    "        </li>\n",
    "</p>"
   ]
  },
  {
   "cell_type": "markdown",
   "metadata": {},
   "source": [
    "#### Variáveis Qualitativas"
   ]
  },
  {
   "cell_type": "markdown",
   "metadata": {},
   "source": [
    "<p style=\"text-align:justify\">\n",
    "    As variáveis qualitativas são variáveis que trazem uma qualidade do indivíduo, sendo assim são as variáveis que não conseguimos contar. E também possuem dois tipos:\n",
    "    <ul style=\"list-style-type:disc\">\n",
    "        <li><b>Ordinal</b>: quando á variável pode ser disposta usando uma ordem, por exemplo:\n",
    "            <ul style=\"list-style-type:circle\">\n",
    "                <li>Classe social</li>\n",
    "                <li>Grau de instrução</li>\n",
    "                <li>Conceitos como ótimo, bom, regular ou ruim</li>\n",
    "            </ul>\n",
    "        </li>\n",
    "        <li><b>Nominais</b>: quando se não pode colocar uma ordem na variável, por exemplo:\n",
    "            <ul style=\"list-style-type:circle\">\n",
    "                <li>Gênero de uma pessoa </li>\n",
    "                <li>Cor dos olhos</li>\n",
    "                <li>Local de nascimento</li>\n",
    "            </ul>\n",
    "        </li>\n",
    "</p>"
   ]
  },
  {
   "cell_type": "markdown",
   "metadata": {},
   "source": [
    "### Analisando as variáveis dos nossos dados"
   ]
  },
  {
   "cell_type": "markdown",
   "metadata": {},
   "source": [
    "Com este comando podemos ver todas as colunas/variáveis do nosso DataFrame"
   ]
  },
  {
   "cell_type": "code",
   "execution_count": 3,
   "metadata": {},
   "outputs": [
    {
     "data": {
      "text/plain": [
       "Index(['total_bill', 'tip', 'sex', 'smoker', 'day', 'time', 'size'], dtype='object')"
      ]
     },
     "execution_count": 3,
     "metadata": {},
     "output_type": "execute_result"
    }
   ],
   "source": [
    "gorjetas.columns"
   ]
  },
  {
   "cell_type": "markdown",
   "metadata": {},
   "source": [
    "Vamos começar observando a primeira coluna a coluna `total_bill` e em seguida analisar uma por uma das colunas/variáveis"
   ]
  },
  {
   "cell_type": "code",
   "execution_count": 4,
   "metadata": {},
   "outputs": [
    {
     "data": {
      "text/plain": [
       "0      16.99\n",
       "1      10.34\n",
       "2      21.01\n",
       "3      23.68\n",
       "4      24.59\n",
       "       ...  \n",
       "239    29.03\n",
       "240    27.18\n",
       "241    22.67\n",
       "242    17.82\n",
       "243    18.78\n",
       "Name: total_bill, Length: 244, dtype: float64"
      ]
     },
     "execution_count": 4,
     "metadata": {},
     "output_type": "execute_result"
    }
   ],
   "source": [
    "gorjetas['total_bill']"
   ]
  },
  {
   "cell_type": "markdown",
   "metadata": {},
   "source": [
    "Esta variável trás o total da conta gasto pode cada cliente, e como podemos ver ela se trata de uma variável **quantitativa e contínua**."
   ]
  },
  {
   "cell_type": "code",
   "execution_count": 5,
   "metadata": {},
   "outputs": [
    {
     "data": {
      "text/plain": [
       "0      1.01\n",
       "1      1.66\n",
       "2      3.50\n",
       "3      3.31\n",
       "4      3.61\n",
       "       ... \n",
       "239    5.92\n",
       "240    2.00\n",
       "241    2.00\n",
       "242    1.75\n",
       "243    3.00\n",
       "Name: tip, Length: 244, dtype: float64"
      ]
     },
     "execution_count": 5,
     "metadata": {},
     "output_type": "execute_result"
    }
   ],
   "source": [
    "gorjetas['tip']"
   ]
  },
  {
   "cell_type": "markdown",
   "metadata": {},
   "source": [
    "Está variável tem extrema importância para um estudo de previsão, então podemos dizer que esta variável é a **variável alvo** do estudo, pois ela fornece o valor das gorjetas recebida pelo garçom. Ela também é uma variável **quantitativa e contínua**."
   ]
  },
  {
   "cell_type": "code",
   "execution_count": 6,
   "metadata": {},
   "outputs": [
    {
     "data": {
      "text/plain": [
       "0      Female\n",
       "1        Male\n",
       "2        Male\n",
       "3        Male\n",
       "4      Female\n",
       "        ...  \n",
       "239      Male\n",
       "240    Female\n",
       "241      Male\n",
       "242      Male\n",
       "243    Female\n",
       "Name: sex, Length: 244, dtype: object"
      ]
     },
     "execution_count": 6,
     "metadata": {},
     "output_type": "execute_result"
    }
   ],
   "source": [
    "gorjetas['sex']"
   ]
  },
  {
   "cell_type": "markdown",
   "metadata": {},
   "source": [
    "Já nesta variável podemos ver que ela nao é mensurável, pois ela se trata do gênero da pessoa que consumiu no estabelecimento onde o garçom trabalha, e como o gênero não possui uma hierarquia ou uma ordem esta variável é **qualitativa nominal**"
   ]
  },
  {
   "cell_type": "code",
   "execution_count": 7,
   "metadata": {},
   "outputs": [
    {
     "data": {
      "text/plain": [
       "0       No\n",
       "1       No\n",
       "2       No\n",
       "3       No\n",
       "4       No\n",
       "      ... \n",
       "239     No\n",
       "240    Yes\n",
       "241    Yes\n",
       "242     No\n",
       "243     No\n",
       "Name: smoker, Length: 244, dtype: object"
      ]
     },
     "execution_count": 7,
     "metadata": {},
     "output_type": "execute_result"
    }
   ],
   "source": [
    "gorjetas['smoker']"
   ]
  },
  {
   "cell_type": "markdown",
   "metadata": {},
   "source": [
    "A variável `smoker` é referente se havia fumantes sentando a mesa, está é outra variável que é **qualitativa nominal**, pois a resposta para ela é sim ou não sem haver uma ordem."
   ]
  },
  {
   "cell_type": "code",
   "execution_count": 8,
   "metadata": {},
   "outputs": [
    {
     "data": {
      "text/plain": [
       "0       Sun\n",
       "1       Sun\n",
       "2       Sun\n",
       "3       Sun\n",
       "4       Sun\n",
       "       ... \n",
       "239     Sat\n",
       "240     Sat\n",
       "241     Sat\n",
       "242     Sat\n",
       "243    Thur\n",
       "Name: day, Length: 244, dtype: object"
      ]
     },
     "execution_count": 8,
     "metadata": {},
     "output_type": "execute_result"
    }
   ],
   "source": [
    "gorjetas['day']"
   ]
  },
  {
   "cell_type": "markdown",
   "metadata": {},
   "source": [
    "Na variável `day`, temos os dias da semana, e neste caso existe uma ordem para isso, ou seja, segunda vem antes da terça, que vem antes da quarta e assim sucessivamente, sendo assim está variável e **qualitativa ordinal**."
   ]
  },
  {
   "cell_type": "code",
   "execution_count": 9,
   "metadata": {},
   "outputs": [
    {
     "data": {
      "text/plain": [
       "0      Dinner\n",
       "1      Dinner\n",
       "2      Dinner\n",
       "3      Dinner\n",
       "4      Dinner\n",
       "        ...  \n",
       "239    Dinner\n",
       "240    Dinner\n",
       "241    Dinner\n",
       "242    Dinner\n",
       "243    Dinner\n",
       "Name: time, Length: 244, dtype: object"
      ]
     },
     "execution_count": 9,
     "metadata": {},
     "output_type": "execute_result"
    }
   ],
   "source": [
    "gorjetas['time']"
   ]
  },
  {
   "cell_type": "markdown",
   "metadata": {},
   "source": [
    "Na variável `time` se tem o tipo de refeição que foi feita, esta variável também não possui uma hierarquia, afinal nenhuma refeição é mais importante que a outra, todas são importantes para se manter bem alimentando, sendo assim, está variável é **qualitativa nominal**."
   ]
  },
  {
   "cell_type": "code",
   "execution_count": 13,
   "metadata": {},
   "outputs": [
    {
     "data": {
      "text/plain": [
       "0      2\n",
       "1      3\n",
       "2      3\n",
       "3      2\n",
       "4      4\n",
       "      ..\n",
       "239    3\n",
       "240    2\n",
       "241    2\n",
       "242    2\n",
       "243    2\n",
       "Name: size, Length: 244, dtype: int64"
      ]
     },
     "execution_count": 13,
     "metadata": {},
     "output_type": "execute_result"
    }
   ],
   "source": [
    "gorjetas['size']"
   ]
  },
  {
   "cell_type": "markdown",
   "metadata": {},
   "source": [
    "A variável `size` representa a quantidade de pessoas que estavam presentes em cada mesa que o garçom atendeu, como este valor é finito e possível contar está variável e **qualitativa discreta**."
   ]
  },
  {
   "cell_type": "code",
   "execution_count": null,
   "metadata": {},
   "outputs": [],
   "source": []
  },
  {
   "cell_type": "code",
   "execution_count": 16,
   "metadata": {},
   "outputs": [],
   "source": [
    "gorjetas[\"porcentagem\"] = (gorjetas['tip']/gorjetas['total_bill']).round(4) * 100\n"
   ]
  },
  {
   "cell_type": "code",
   "execution_count": 17,
   "metadata": {},
   "outputs": [
    {
     "data": {
      "text/html": [
       "<div>\n",
       "<style scoped>\n",
       "    .dataframe tbody tr th:only-of-type {\n",
       "        vertical-align: middle;\n",
       "    }\n",
       "\n",
       "    .dataframe tbody tr th {\n",
       "        vertical-align: top;\n",
       "    }\n",
       "\n",
       "    .dataframe thead th {\n",
       "        text-align: right;\n",
       "    }\n",
       "</style>\n",
       "<table border=\"1\" class=\"dataframe\">\n",
       "  <thead>\n",
       "    <tr style=\"text-align: right;\">\n",
       "      <th></th>\n",
       "      <th>total_bill</th>\n",
       "      <th>tip</th>\n",
       "      <th>sex</th>\n",
       "      <th>smoker</th>\n",
       "      <th>day</th>\n",
       "      <th>time</th>\n",
       "      <th>size</th>\n",
       "      <th>porcentagem</th>\n",
       "    </tr>\n",
       "  </thead>\n",
       "  <tbody>\n",
       "    <tr>\n",
       "      <th>0</th>\n",
       "      <td>16.99</td>\n",
       "      <td>1.01</td>\n",
       "      <td>Female</td>\n",
       "      <td>No</td>\n",
       "      <td>Sun</td>\n",
       "      <td>Dinner</td>\n",
       "      <td>2</td>\n",
       "      <td>5.94</td>\n",
       "    </tr>\n",
       "    <tr>\n",
       "      <th>1</th>\n",
       "      <td>10.34</td>\n",
       "      <td>1.66</td>\n",
       "      <td>Male</td>\n",
       "      <td>No</td>\n",
       "      <td>Sun</td>\n",
       "      <td>Dinner</td>\n",
       "      <td>3</td>\n",
       "      <td>16.05</td>\n",
       "    </tr>\n",
       "    <tr>\n",
       "      <th>2</th>\n",
       "      <td>21.01</td>\n",
       "      <td>3.50</td>\n",
       "      <td>Male</td>\n",
       "      <td>No</td>\n",
       "      <td>Sun</td>\n",
       "      <td>Dinner</td>\n",
       "      <td>3</td>\n",
       "      <td>16.66</td>\n",
       "    </tr>\n",
       "    <tr>\n",
       "      <th>3</th>\n",
       "      <td>23.68</td>\n",
       "      <td>3.31</td>\n",
       "      <td>Male</td>\n",
       "      <td>No</td>\n",
       "      <td>Sun</td>\n",
       "      <td>Dinner</td>\n",
       "      <td>2</td>\n",
       "      <td>13.98</td>\n",
       "    </tr>\n",
       "    <tr>\n",
       "      <th>4</th>\n",
       "      <td>24.59</td>\n",
       "      <td>3.61</td>\n",
       "      <td>Female</td>\n",
       "      <td>No</td>\n",
       "      <td>Sun</td>\n",
       "      <td>Dinner</td>\n",
       "      <td>4</td>\n",
       "      <td>14.68</td>\n",
       "    </tr>\n",
       "    <tr>\n",
       "      <th>...</th>\n",
       "      <td>...</td>\n",
       "      <td>...</td>\n",
       "      <td>...</td>\n",
       "      <td>...</td>\n",
       "      <td>...</td>\n",
       "      <td>...</td>\n",
       "      <td>...</td>\n",
       "      <td>...</td>\n",
       "    </tr>\n",
       "    <tr>\n",
       "      <th>239</th>\n",
       "      <td>29.03</td>\n",
       "      <td>5.92</td>\n",
       "      <td>Male</td>\n",
       "      <td>No</td>\n",
       "      <td>Sat</td>\n",
       "      <td>Dinner</td>\n",
       "      <td>3</td>\n",
       "      <td>20.39</td>\n",
       "    </tr>\n",
       "    <tr>\n",
       "      <th>240</th>\n",
       "      <td>27.18</td>\n",
       "      <td>2.00</td>\n",
       "      <td>Female</td>\n",
       "      <td>Yes</td>\n",
       "      <td>Sat</td>\n",
       "      <td>Dinner</td>\n",
       "      <td>2</td>\n",
       "      <td>7.36</td>\n",
       "    </tr>\n",
       "    <tr>\n",
       "      <th>241</th>\n",
       "      <td>22.67</td>\n",
       "      <td>2.00</td>\n",
       "      <td>Male</td>\n",
       "      <td>Yes</td>\n",
       "      <td>Sat</td>\n",
       "      <td>Dinner</td>\n",
       "      <td>2</td>\n",
       "      <td>8.82</td>\n",
       "    </tr>\n",
       "    <tr>\n",
       "      <th>242</th>\n",
       "      <td>17.82</td>\n",
       "      <td>1.75</td>\n",
       "      <td>Male</td>\n",
       "      <td>No</td>\n",
       "      <td>Sat</td>\n",
       "      <td>Dinner</td>\n",
       "      <td>2</td>\n",
       "      <td>9.82</td>\n",
       "    </tr>\n",
       "    <tr>\n",
       "      <th>243</th>\n",
       "      <td>18.78</td>\n",
       "      <td>3.00</td>\n",
       "      <td>Female</td>\n",
       "      <td>No</td>\n",
       "      <td>Thur</td>\n",
       "      <td>Dinner</td>\n",
       "      <td>2</td>\n",
       "      <td>15.97</td>\n",
       "    </tr>\n",
       "  </tbody>\n",
       "</table>\n",
       "<p>244 rows × 8 columns</p>\n",
       "</div>"
      ],
      "text/plain": [
       "     total_bill   tip     sex smoker   day    time  size  porcentagem\n",
       "0         16.99  1.01  Female     No   Sun  Dinner     2         5.94\n",
       "1         10.34  1.66    Male     No   Sun  Dinner     3        16.05\n",
       "2         21.01  3.50    Male     No   Sun  Dinner     3        16.66\n",
       "3         23.68  3.31    Male     No   Sun  Dinner     2        13.98\n",
       "4         24.59  3.61  Female     No   Sun  Dinner     4        14.68\n",
       "..          ...   ...     ...    ...   ...     ...   ...          ...\n",
       "239       29.03  5.92    Male     No   Sat  Dinner     3        20.39\n",
       "240       27.18  2.00  Female    Yes   Sat  Dinner     2         7.36\n",
       "241       22.67  2.00    Male    Yes   Sat  Dinner     2         8.82\n",
       "242       17.82  1.75    Male     No   Sat  Dinner     2         9.82\n",
       "243       18.78  3.00  Female     No  Thur  Dinner     2        15.97\n",
       "\n",
       "[244 rows x 8 columns]"
      ]
     },
     "execution_count": 17,
     "metadata": {},
     "output_type": "execute_result"
    }
   ],
   "source": [
    "gorjetas"
   ]
  },
  {
   "cell_type": "code",
   "execution_count": null,
   "metadata": {},
   "outputs": [],
   "source": []
  }
 ],
 "metadata": {
  "kernelspec": {
   "display_name": "venv",
   "language": "python",
   "name": "python3"
  },
  "language_info": {
   "codemirror_mode": {
    "name": "ipython",
    "version": 3
   },
   "file_extension": ".py",
   "mimetype": "text/x-python",
   "name": "python",
   "nbconvert_exporter": "python",
   "pygments_lexer": "ipython3",
   "version": "3.11.4"
  }
 },
 "nbformat": 4,
 "nbformat_minor": 2
}
